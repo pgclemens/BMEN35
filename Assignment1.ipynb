{
  "cells": [
    {
      "cell_type": "markdown",
      "id": "557d33a8",
      "metadata": {
        "id": "557d33a8"
      },
      "source": [
        "# Assignment 1\n",
        "\n",
        "\n",
        "## Fill in your name below\n",
        "\n",
        "Alexander Andersson, BME4\n",
        "\n",
        "## Your mission now is the following:\n",
        "\n",
        "\n",
        "1.   Generate x-values (1000 values between 0 and 5)\n",
        "2.   Generate y-values according to some function (y = x, y = e^x, y = x^2 or similar) that is defined through all x-values\n",
        "3. Take 100 random samples from the y array. (tip: np.random.randint(x,y,z) generates z number of integer values between x and y). Compute the mean of these 100 random samples.\n",
        "4. Repeat step 3, 50000 times and store the means in a variable (clt)\n",
        "5. Plot a histogram of the clt variable\n",
        "6. Go back and change the function in step 2 to something else and run the script again.\n",
        "7. What is the plot showing?\n",
        "\n",
        "\n",
        "### When you have finished this assignment , save this notebook, download it and submit it as assignment 1 in Canvas."
      ]
    },
    {
      "cell_type": "code",
      "execution_count": 39,
      "id": "d703706d",
      "metadata": {
        "id": "d703706d",
        "colab": {
          "base_uri": "https://localhost:8080/",
          "height": 265
        },
        "outputId": "ae6a6308-1374-458b-b298-2d185ca94f94"
      },
      "outputs": [
        {
          "output_type": "display_data",
          "data": {
            "text/plain": [
              "<Figure size 432x288 with 1 Axes>"
            ],
            "image/png": "[encoded data removed]"
          },
          "metadata": {
            "needs_background": "light"
          }
        }
      ],
      "source": [
        "import numpy as np\n",
        "#1,2,6\n",
        "x = np.random.randint(0, 5000, 1000) / 1000\n",
        "y = np.sqrt(np.exp(x))\n",
        "\n",
        "#3,4\n",
        "clt = []\n",
        "for i in range(50000):\n",
        "  indices = np.random.randint(0, np.size(x), 100)\n",
        "  new_y = np.take(y,indices)\n",
        "  mean_y = np.mean(new_y)\n",
        "  clt += [mean_y]\n",
        "\n",
        "#5\n",
        "import matplotlib.pyplot as plt\n",
        "\n",
        "histogram = plt.hist(clt, bins=240)\n",
        "plt.show(histogram)"
      ]
    },
    {
      "cell_type": "markdown",
      "source": [
        "#\\#7 The plot is showing a probability density function."
      ],
      "metadata": {
        "id": "tPM4KD0z4N3T"
      },
      "id": "tPM4KD0z4N3T"
    }
  ],
  "metadata": {
    "kernelspec": {
      "display_name": "Python 3 (ipykernel)",
      "language": "python",
      "name": "python3"
    },
    "language_info": {
      "codemirror_mode": {
        "name": "ipython",
        "version": 3
      },
      "file_extension": ".py",
      "mimetype": "text/x-python",
      "name": "python",
      "nbconvert_exporter": "python",
      "pygments_lexer": "ipython3",
      "version": "3.8.13"
    },
    "colab": {
      "provenance": [],
      "collapsed_sections": []
    }
  },
  "nbformat": 4,
  "nbformat_minor": 5
}